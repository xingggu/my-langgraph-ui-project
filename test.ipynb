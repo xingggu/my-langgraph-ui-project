{
 "cells": [
  {
   "cell_type": "code",
   "execution_count": null,
   "id": "ac1f1e6b",
   "metadata": {},
   "outputs": [
    {
     "name": "stdout",
     "output_type": "stream",
     "text": [
      "Hello! How can I assist you today? 😊\n"
     ]
    }
   ],
   "source": [
    "# Please install OpenAI SDK first: `pip3 install openai`\n",
    "\n",
    "from openai import OpenAI\n",
    "\n",
    "client = OpenAI(api_key=\"\", base_url=\"https://api.deepseek.com\")\n",
    "\n",
    "response = client.chat.completions.create(\n",
    "    model=\"deepseek-chat\",\n",
    "    messages=[\n",
    "        {\"role\": \"system\", \"content\": \"You are a helpful assistant\"},\n",
    "        {\"role\": \"user\", \"content\": \"Hello\"},\n",
    "    ],\n",
    "    stream=False\n",
    ")\n",
    "\n",
    "print(response.choices[0].message.content)"
   ]
  },
  {
   "cell_type": "code",
   "execution_count": null,
   "id": "0074ceb7",
   "metadata": {},
   "outputs": [
    {
     "name": "stdout",
     "output_type": "stream",
     "text": [
      "🤖 LLM Response:\n",
      " Hello! 😊 I'm DeepSeek Chat, your AI assistant created by DeepSeek. I'm here to help answer your questions, provide information, and assist with anything from learning new topics to brainstorming ideas. Feel free to ask me anything—I'm happy to help! 🚀\n"
     ]
    }
   ],
   "source": [
    "from langchain_openai import ChatOpenAI\n",
    "from dotenv import load_dotenv\n",
    "import os\n",
    "\n",
    "# ✅ 读取 .env 文件\n",
    "load_dotenv()\n",
    "\n",
    "# ✅ 从环境变量中获取 DeepSeek 的 API Key\n",
    "api_key = os.getenv(\"OPENAI_API_KEY\")\n",
    "if not api_key:\n",
    "    raise ValueError(\"❌ OPENAI_API_KEY not found in .env\")\n",
    "\n",
    "# ✅ 构建 LangChain 的 ChatOpenAI 对象，指定 DeepSeek 地址\n",
    "llm = ChatOpenAI(\n",
    "    model=\"deepseek-chat\",\n",
    "    base_url=\"https://api.deepseek.com/v1\",\n",
    "    api_key=api_key\n",
    ")\n",
    "\n",
    "# ✅ 执行一次对话调用\n",
    "response = llm.invoke(\"Hello, who are you?\")\n",
    "\n",
    "# ✅ 输出结果\n",
    "print(\"🤖 LLM Response:\\n\", response.content)\n"
   ]
  },
  {
   "cell_type": "code",
   "execution_count": 3,
   "id": "38acbcda",
   "metadata": {},
   "outputs": [
    {
     "name": "stdout",
     "output_type": "stream",
     "text": [
      "✅ OPENAI_API_KEY loaded: True\n",
      ">>> .env key: sk-3c0ac93bfc28454896dd13cc6cd3bba1\n"
     ]
    }
   ],
   "source": [
    "from dotenv import load_dotenv\n",
    "import os\n",
    "\n",
    "load_dotenv()\n",
    "print(\"✅ OPENAI_API_KEY loaded:\", os.getenv(\"OPENAI_API_KEY\") is not None)\n",
    "print(\">>> .env key:\", os.environ.get(\"OPENAI_API_KEY\"))"
   ]
  },
  {
   "cell_type": "code",
   "execution_count": 1,
   "id": "bef41c07",
   "metadata": {},
   "outputs": [
    {
     "name": "stdout",
     "output_type": "stream",
     "text": [
      "📁 Current Working Directory: d:\\LangChain\\LangGraph\\my-langgraph-ui-project\n"
     ]
    }
   ],
   "source": [
    "import os\n",
    "\n",
    "print(\"📁 Current Working Directory:\", os.getcwd())\n"
   ]
  },
  {
   "cell_type": "code",
   "execution_count": 4,
   "id": "6286067e",
   "metadata": {},
   "outputs": [
    {
     "name": "stdout",
     "output_type": "stream",
     "text": [
      ">>> sys env: sk-3c0ac93bfc28454896dd13cc6cd3bba1\n"
     ]
    }
   ],
   "source": [
    "import os\n",
    "\n",
    "print(\">>> sys env:\", os.environ.get(\"OPENAI_API_KEY\"))  # 系统环境变量优先\n"
   ]
  }
 ],
 "metadata": {
  "kernelspec": {
   "display_name": "LangChain",
   "language": "python",
   "name": "python3"
  },
  "language_info": {
   "codemirror_mode": {
    "name": "ipython",
    "version": 3
   },
   "file_extension": ".py",
   "mimetype": "text/x-python",
   "name": "python",
   "nbconvert_exporter": "python",
   "pygments_lexer": "ipython3",
   "version": "3.11.8"
  }
 },
 "nbformat": 4,
 "nbformat_minor": 5
}
